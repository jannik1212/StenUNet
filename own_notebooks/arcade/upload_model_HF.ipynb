{
 "cells": [
  {
   "cell_type": "code",
   "execution_count": 2,
   "id": "9d4e7680-ba56-4c58-9f48-e7ee8ca09fcc",
   "metadata": {},
   "outputs": [
    {
     "name": "stdout",
     "output_type": "stream",
     "text": [
      "Collecting huggingface_hub\n",
      "  Using cached huggingface_hub-0.29.3-py3-none-any.whl.metadata (13 kB)\n",
      "Requirement already satisfied: filelock in /opt/conda/lib/python3.12/site-packages (from huggingface_hub) (3.13.1)\n",
      "Requirement already satisfied: fsspec>=2023.5.0 in /opt/conda/lib/python3.12/site-packages (from huggingface_hub) (2025.2.0)\n",
      "Requirement already satisfied: packaging>=20.9 in /opt/conda/lib/python3.12/site-packages (from huggingface_hub) (24.2)\n",
      "Requirement already satisfied: pyyaml>=5.1 in /opt/conda/lib/python3.12/site-packages (from huggingface_hub) (6.0.2)\n",
      "Requirement already satisfied: requests in /opt/conda/lib/python3.12/site-packages (from huggingface_hub) (2.32.3)\n",
      "Requirement already satisfied: tqdm>=4.42.1 in /opt/conda/lib/python3.12/site-packages (from huggingface_hub) (4.67.1)\n",
      "Requirement already satisfied: typing-extensions>=3.7.4.3 in /opt/conda/lib/python3.12/site-packages (from huggingface_hub) (4.12.2)\n",
      "Requirement already satisfied: charset_normalizer<4,>=2 in /opt/conda/lib/python3.12/site-packages (from requests->huggingface_hub) (3.4.1)\n",
      "Requirement already satisfied: idna<4,>=2.5 in /opt/conda/lib/python3.12/site-packages (from requests->huggingface_hub) (3.10)\n",
      "Requirement already satisfied: urllib3<3,>=1.21.1 in /opt/conda/lib/python3.12/site-packages (from requests->huggingface_hub) (2.3.0)\n",
      "Requirement already satisfied: certifi>=2017.4.17 in /opt/conda/lib/python3.12/site-packages (from requests->huggingface_hub) (2025.1.31)\n",
      "Using cached huggingface_hub-0.29.3-py3-none-any.whl (468 kB)\n",
      "Installing collected packages: huggingface_hub\n",
      "Successfully installed huggingface_hub-0.29.3\n",
      "Note: you may need to restart the kernel to use updated packages.\n"
     ]
    }
   ],
   "source": [
    "pip install huggingface_hub"
   ]
  },
  {
   "cell_type": "code",
   "execution_count": 4,
   "id": "8408eaf4-1db4-41f1-9be6-5728913bfd51",
   "metadata": {},
   "outputs": [
    {
     "data": {
      "text/plain": [
       "'/home/jovyan/StenUNet/own_notebooks'"
      ]
     },
     "execution_count": 4,
     "metadata": {},
     "output_type": "execute_result"
    }
   ],
   "source": [
    "pwd"
   ]
  },
  {
   "cell_type": "code",
   "execution_count": 5,
   "id": "b4e19e80-25e1-411d-bb09-3a6290a04025",
   "metadata": {},
   "outputs": [
    {
     "name": "stdout",
     "output_type": "stream",
     "text": [
      "Uploading checkpoint_best.pth to CardiacImageSegmentation/StenUNet...\n"
     ]
    },
    {
     "data": {
      "application/vnd.jupyter.widget-view+json": {
       "model_id": "e3dfd67562234b6e858eb039a9eec094",
       "version_major": 2,
       "version_minor": 0
      },
      "text/plain": [
       "checkpoint_best.pth:   0%|          | 0.00/371M [00:00<?, ?B/s]"
      ]
     },
     "metadata": {},
     "output_type": "display_data"
    },
    {
     "name": "stdout",
     "output_type": "stream",
     "text": [
      "Uploading checkpoint_final.pth to CardiacImageSegmentation/StenUNet...\n"
     ]
    },
    {
     "data": {
      "application/vnd.jupyter.widget-view+json": {
       "model_id": "73e378b0ea3c4a2face1666b2fa7b1d7",
       "version_major": 2,
       "version_minor": 0
      },
      "text/plain": [
       "checkpoint_final.pth:   0%|          | 0.00/371M [00:00<?, ?B/s]"
      ]
     },
     "metadata": {},
     "output_type": "display_data"
    },
    {
     "name": "stdout",
     "output_type": "stream",
     "text": [
      "✅ Upload complete! Check your model at: https://huggingface.co/CardiacImageSegmentation/StenUNet\n"
     ]
    }
   ],
   "source": [
    "from huggingface_hub import HfApi, create_repo, upload_file\n",
    "import os\n",
    "\n",
    "# Define your Hugging Face token and organization\n",
    "HF_ORG = \"CardiacImageSegmentation\"  # Replace with your Hugging Face organization name\n",
    "HF_MODEL_REPO = \"StenUNet\"  # Name of the model repo\n",
    "HF_TOKEN = \"your_hugging_face_token\"  \n",
    "\n",
    "# Initialize Hugging Face API\n",
    "api = HfApi()\n",
    "\n",
    "# Step 1: Create a model repository under your organization\n",
    "repo_id = f\"{HF_ORG}/{HF_MODEL_REPO}\"\n",
    "create_repo(repo_id=repo_id, token=HF_TOKEN, repo_type=\"model\", exist_ok=True)\n",
    "\n",
    "# Step 2: Define paths to checkpoint files\n",
    "checkpoint_paths = [\n",
    "    \"../nnNet_training/nnUNet_results/Dataset_Train_val/nnUNetTrainer__nnUNetPlans__2d/fold_0/checkpoint_best.pth\",\n",
    "    \"../nnNet_training/nnUNet_results/Dataset_Train_val/nnUNetTrainer__nnUNetPlans__2d/fold_0/checkpoint_final.pth\"\n",
    "]\n",
    "\n",
    "# Step 3: Upload each checkpoint to the Hugging Face repo\n",
    "for ckpt_path in checkpoint_paths:\n",
    "    filename = os.path.basename(ckpt_path)  # Get filename\n",
    "    print(f\"Uploading {filename} to {repo_id}...\")\n",
    "\n",
    "    upload_file(\n",
    "        path_or_fileobj=ckpt_path,\n",
    "        path_in_repo=filename,  # The file name in the repo\n",
    "        repo_id=repo_id,\n",
    "        token=HF_TOKEN,\n",
    "        repo_type=\"model\"\n",
    "    )\n",
    "\n",
    "print(f\"✅ Upload complete! Check your model at: https://huggingface.co/{repo_id}\")\n"
   ]
  }
 ],
 "metadata": {
  "kernelspec": {
   "display_name": "Python 3 (ipykernel)",
   "language": "python",
   "name": "python3"
  },
  "language_info": {
   "codemirror_mode": {
    "name": "ipython",
    "version": 3
   },
   "file_extension": ".py",
   "mimetype": "text/x-python",
   "name": "python",
   "nbconvert_exporter": "python",
   "pygments_lexer": "ipython3",
   "version": "3.12.9"
  }
 },
 "nbformat": 4,
 "nbformat_minor": 5
}
