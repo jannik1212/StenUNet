{
 "cells": [
  {
   "cell_type": "code",
   "execution_count": 1,
   "id": "a72cfff3",
   "metadata": {},
   "outputs": [],
   "source": [
    "import nibabel as nib\n",
    "import numpy as np\n",
    "import napari\n",
    "\n",
    "def view_nii_in_napari(image_path: str, label_path: str):\n",
    "    # load + reorient\n",
    "    img_nii = nib.as_closest_canonical(nib.load(image_path))\n",
    "    lbl_nii = nib.as_closest_canonical(nib.load(label_path))\n",
    "\n",
    "    img = img_nii.get_fdata(dtype=np.float32)\n",
    "    lbl = lbl_nii.get_fdata(dtype=np.float32).astype(np.int32)\n",
    "\n",
    "    print(\"orig image shape:\", img.shape)   # e.g. (512, 512, 49)\n",
    "    print(\"orig label shape:\", lbl.shape)\n",
    "\n",
    "    # bring the slice‐axis (axis=2) to the front (axis=0)\n",
    "    img = np.moveaxis(img, 2, 0)\n",
    "    lbl = np.moveaxis(lbl, 2, 0)\n",
    "    print(\"reordered image shape:\", img.shape)  # now (49, 512, 512)\n",
    "    print(\"reordered label shape:\", lbl.shape)\n",
    "\n",
    "    # launch Napari\n",
    "    viewer = napari.Viewer()\n",
    "    viewer.add_image(\n",
    "        img,\n",
    "        name='Image',\n",
    "        colormap='gray',\n",
    "        contrast_limits=[float(img.min()), float(img.max())]\n",
    "    )\n",
    "    viewer.add_labels(lbl, name='Labels')\n",
    "    napari.run()\n"
   ]
  },
  {
   "cell_type": "code",
   "execution_count": 3,
   "id": "3dabeb8d",
   "metadata": {},
   "outputs": [
    {
     "name": "stdout",
     "output_type": "stream",
     "text": [
      "orig image shape: (512, 512, 49)\n",
      "orig label shape: (512, 512, 49)\n",
      "reordered image shape: (49, 512, 512)\n",
      "reordered label shape: (49, 512, 512)\n"
     ]
    }
   ],
   "source": [
    "view_nii_in_napari(\"../../hepaticvessel_001.nii.gz\", \"../../hepaticvessel_001_label.nii.gz\")"
   ]
  },
  {
   "cell_type": "code",
   "execution_count": null,
   "id": "27609c93",
   "metadata": {},
   "outputs": [],
   "source": []
  }
 ],
 "metadata": {
  "kernelspec": {
   "display_name": "cardiac_segmentation",
   "language": "python",
   "name": "python3"
  },
  "language_info": {
   "codemirror_mode": {
    "name": "ipython",
    "version": 3
   },
   "file_extension": ".py",
   "mimetype": "text/x-python",
   "name": "python",
   "nbconvert_exporter": "python",
   "pygments_lexer": "ipython3",
   "version": "3.11.9"
  }
 },
 "nbformat": 4,
 "nbformat_minor": 5
}
