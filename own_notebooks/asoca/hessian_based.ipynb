{
 "cells": [
  {
   "cell_type": "markdown",
   "id": "2d02de39",
   "metadata": {},
   "source": [
    "## Vesselness Visualization (Red-on-Cyan Overlay)\n",
    "\n",
    "This notebook loads pre-computed CT (`_0000.nrrd`) and Frangi vesselness (`_0001.nrrd`) maps,\n",
    "extracts the central slice (for 3D volumes), and builds the red-on-cyan overlay exactly as in Li et al."
   ]
  },
  {
   "cell_type": "code",
   "execution_count": null,
   "id": "ff14257a",
   "metadata": {},
   "outputs": [],
   "source": []
  }
 ],
 "metadata": {
  "kernelspec": {
   "display_name": "cardiac_segmentation",
   "language": "python",
   "name": "python3"
  },
  "language_info": {
   "codemirror_mode": {
    "name": "ipython",
    "version": 3
   },
   "file_extension": ".py",
   "mimetype": "text/x-python",
   "name": "python",
   "nbconvert_exporter": "python",
   "pygments_lexer": "ipython3",
   "version": "3.11.9"
  }
 },
 "nbformat": 4,
 "nbformat_minor": 5
}
