{
 "cells": [
  {
   "cell_type": "markdown",
   "id": "2d02de39",
   "metadata": {},
   "source": [
    "## Frangi filter\n",
    "\n",
    "This notebook loads pre-computed CT (`_0000.nrrd`) and Frangi vesselness (`_0001.nrrd`) maps."
   ]
  },
  {
   "cell_type": "code",
   "execution_count": 22,
   "id": "b88b5d8d",
   "metadata": {},
   "outputs": [
    {
     "name": "stdout",
     "output_type": "stream",
     "text": [
      "Loading volume: ../../sten_0002_0000.nrrd\n"
     ]
    }
   ],
   "source": [
    "import nrrd\n",
    "import numpy as np\n",
    "from skimage.filters import frangi\n",
    "from tqdm import tqdm\n",
    "import napari\n",
    "\n",
    "# ---- Configuration ----\n",
    "volume_path = '../../sten_0002_0000.nrrd'\n",
    "label_path  = '../../sten_0002.nrrd'\n",
    "\n",
    "# ---- Load and normalize ----\n",
    "print(f\"Loading volume: {volume_path}\")\n",
    "data, header = nrrd.read(volume_path)\n",
    "data = data.astype(np.float32)\n",
    "data = (data - data.min())/(data.max()-data.min())\n",
    "label, _ = nrrd.read(label_path)"
   ]
  },
  {
   "cell_type": "code",
   "execution_count": null,
   "id": "0e984480",
   "metadata": {},
   "outputs": [
    {
     "name": "stdout",
     "output_type": "stream",
     "text": [
      "Processing & saving 'morph_open_bg'…\n",
      "  → Wrote sten_0002_0000_morph_open_bg.nrrd\n",
      "Processing & saving 'highpass'…\n",
      "  → Wrote sten_0002_0000_highpass.nrrd\n",
      "Processing & saving 'tv_tophat'…\n",
      "  → Wrote sten_0002_0000_tv_tophat.nrrd\n"
     ]
    }
   ],
   "source": [
    "import nrrd\n",
    "import numpy as np\n",
    "from scipy.ndimage import gaussian_filter\n",
    "from skimage.restoration import denoise_tv_chambolle\n",
    "from skimage.morphology import opening, ball, white_tophat\n",
    "\n",
    "ct, hdr = nrrd.read('../../sten_0002_0000.nrrd')\n",
    "ct = ct.astype(np.float32)\n",
    "ct_norm = (ct - ct.min())/(ct.max() - ct.min())\n",
    "base = 'sten_0002_0000'\n",
    "\n",
    "# ——— 1) Define your preprocessing functions ———\n",
    "def morph_open_bg(vol):\n",
    "    bg = opening(vol, footprint=ball(25))\n",
    "    return vol - bg\n",
    "\n",
    "def highpass(vol):\n",
    "    bg = gaussian_filter(vol, sigma=20)\n",
    "    hp = vol - bg\n",
    "    return (hp - hp.min())/(hp.max()-hp.min())\n",
    "\n",
    "def tv_tophat(vol):\n",
    "    tv = denoise_tv_chambolle(vol, weight=0.01)\n",
    "    th = white_tophat(tv, footprint=ball(5))\n",
    "    return (th - th.min())/(th.max()-th.min())\n",
    "\n",
    "preprocs = {\n",
    "    'morph_open_bg': morph_open_bg,\n",
    "    'highpass':      highpass,\n",
    "    'tv_tophat':     tv_tophat\n",
    "}\n",
    "\n",
    "# ——— 2) Apply and save ———\n",
    "for name, fn in preprocs.items():\n",
    "    print(f\"Processing & saving '{name}'…\")\n",
    "    vol_pp = fn(ct_norm).astype(np.float32)\n",
    "    out_filename = f\"{base}_{name}.nrrd\"\n",
    "    nrrd.write(out_filename, vol_pp, hdr)\n",
    "    print(f\"  → Wrote {out_filename}\")"
   ]
  },
  {
   "cell_type": "markdown",
   "id": "5a8fcea8",
   "metadata": {},
   "source": [
    "## Tophat"
   ]
  },
  {
   "cell_type": "code",
   "execution_count": 19,
   "id": "7ec1ce9a",
   "metadata": {},
   "outputs": [
    {
     "name": "stdout",
     "output_type": "stream",
     "text": [
      "Saved preprocessed volume to sten_0002_0000_tvtophat.nrrd\n"
     ]
    }
   ],
   "source": [
    "import nrrd\n",
    "import numpy as np\n",
    "from skimage.restoration import denoise_tv_chambolle\n",
    "from skimage.morphology import white_tophat, ball\n",
    "\n",
    "# 1) Load & normalize\n",
    "ct_path     = '../../sten_0002_0000.nrrd'\n",
    "output_path = 'sten_0002_0000_tvtophat.nrrd'\n",
    "\n",
    "ct, hdr = nrrd.read(ct_path)\n",
    "ct = ct.astype(np.float32)\n",
    "ct_norm = (ct - ct.min())/(ct.max() - ct.min())\n",
    "\n",
    "# 2) TV + white-tophat\n",
    "def tv_tophat(vol, tv_weight=0.01, se_radius=5):\n",
    "    tv = denoise_tv_chambolle(vol, weight=tv_weight)\n",
    "    se = ball(se_radius)\n",
    "    wt = white_tophat(tv, footprint=se)\n",
    "    wt = wt - wt.min()\n",
    "    wt = wt/(wt.max()+1e-8)\n",
    "    return wt\n",
    "\n",
    "pp = tv_tophat(ct_norm, tv_weight=0.01, se_radius=5)\n",
    "\n",
    "# 3) Save as NRRD\n",
    "nrrd.write(output_path, pp.astype(np.float32), hdr)\n",
    "print(\"Saved preprocessed volume to\", output_path)\n"
   ]
  },
  {
   "cell_type": "code",
   "execution_count": null,
   "id": "f57cf816",
   "metadata": {},
   "outputs": [],
   "source": [
    "import nrrd\n",
    "import numpy as np\n",
    "from scipy.ndimage import median_filter, gaussian_filter\n",
    "from skimage.filters import threshold_otsu\n",
    "from skimage.morphology import remove_small_objects, opening, ball\n",
    "\n",
    "# 1) load your tophat volume\n",
    "pp, hdr = nrrd.read('sten_0002_0000_tvtophat.nrrd')\n",
    "\n",
    "# 2) tiny 3×3×3 median to kill single‐voxel noise\n",
    "pp_med = median_filter(pp, size=3)\n",
    "\n",
    "# 3) gentle Gaussian smoothing (sigma = 1 voxel)\n",
    "pp_smooth = gaussian_filter(pp_med, sigma=1)\n",
    "\n",
    "# 4) Save both the smoothed “attention” map and the refined mask\n",
    "nrrd.write('sten_0002_tvtophat_smooth.nrrd', pp_smooth.astype(np.float32), hdr)\n"
   ]
  },
  {
   "cell_type": "markdown",
   "id": "6adeb6fc",
   "metadata": {},
   "source": [
    "## Frangi"
   ]
  },
  {
   "cell_type": "code",
   "execution_count": 16,
   "id": "d630767b",
   "metadata": {},
   "outputs": [],
   "source": [
    "# —— Configuration ——\n",
    "input_path  = 'sten_0002_0000_tv_tophat.nrrd'        # your CTCA volume\n",
    "\n",
    "# —— 1) Load CT volume ——\n",
    "vol, header = nrrd.read(input_path)\n",
    "vol = vol.astype(np.float32)\n",
    "\n",
    "v = frangi(\n",
    "        vol,\n",
    "        sigmas=(1.4, 11.5, 1.4),\n",
    "        alpha=1,\n",
    "        beta=1,\n",
    "        gamma=None,\n",
    "        black_ridges=False,\n",
    "        mode='reflect'\n",
    "    )\n",
    "\n",
    "# 7) Save & visualize\n",
    "nrrd.write('sten_0002_0001_frangi.nrrd', v, header)"
   ]
  }
 ],
 "metadata": {
  "kernelspec": {
   "display_name": "cardiac_segmentation",
   "language": "python",
   "name": "python3"
  },
  "language_info": {
   "codemirror_mode": {
    "name": "ipython",
    "version": 3
   },
   "file_extension": ".py",
   "mimetype": "text/x-python",
   "name": "python",
   "nbconvert_exporter": "python",
   "pygments_lexer": "ipython3",
   "version": "3.11.9"
  }
 },
 "nbformat": 4,
 "nbformat_minor": 5
}
