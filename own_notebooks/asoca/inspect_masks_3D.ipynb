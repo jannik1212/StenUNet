{
 "cells": [
  {
   "cell_type": "code",
   "execution_count": null,
   "metadata": {},
   "outputs": [
    {
     "data": {
      "image/png": "[encoded data removed]",
      "text/plain": [
       "<Figure size 800x300 with 2 Axes>"
      ]
     },
     "metadata": {},
     "output_type": "display_data"
    },
    {
     "name": "stderr",
     "output_type": "stream",
     "text": [
      "/Users/bundeli/opt/anaconda3/envs/cardiac_segmentation/lib/python3.11/contextlib.py:137: FutureWarning: \n",
      "The 'gui_qt()' context manager is deprecated.\n",
      "If you are running napari from a script, please use 'napari.run()' as follows:\n",
      "\n",
      "    import napari\n",
      "\n",
      "    viewer = napari.Viewer()  # no prior setup needed\n",
      "    # other code using the viewer...\n",
      "    napari.run()\n",
      "\n",
      "In IPython or Jupyter, 'napari.run()' is not necessary. napari will automatically\n",
      "start an interactive event loop for you: \n",
      "\n",
      "    import napari\n",
      "    viewer = napari.Viewer()  # that's it!\n",
      "\n",
      "  return next(self.gen)\n",
      "/Users/bundeli/opt/anaconda3/envs/cardiac_segmentation/lib/python3.11/site-packages/napari/_qt/qt_event_loop.py:338: FutureWarning: `QApplication` instance access through `get_app` is deprecated and will be removed in 0.6.0.\n",
      "Please use `get_qapp` instead.\n",
      "\n",
      "  app = get_app()\n"
     ]
    },
    {
     "name": "stderr",
     "output_type": "stream",
     "text": [
      "2025-04-18 17:06:51.120 python[51969:12320885] _TIPropertyValueIsValid called with 16 on nil context!\n",
      "2025-04-18 17:06:51.120 python[51969:12320885] imkxpc_getApplicationProperty:reply: called with incorrect property value 16, bailing.\n",
      "2025-04-18 17:06:51.121 python[51969:12320885] Text input context does not respond to _valueForTIProperty:\n",
      "2025-04-18 17:12:25.415 python[51969:12320885] _TIPropertyValueIsValid called with 16 on nil context!\n",
      "2025-04-18 17:12:25.415 python[51969:12320885] imkxpc_getApplicationProperty:reply: called with incorrect property value 16, bailing.\n",
      "2025-04-18 17:12:25.415 python[51969:12320885] Text input context does not respond to _valueForTIProperty:\n",
      "2025-04-19 19:43:46.577 python[51969:12320885] _TIPropertyValueIsValid called with 16 on nil context!\n",
      "2025-04-19 19:43:46.578 python[51969:12320885] imkxpc_getApplicationProperty:reply: called with incorrect property value 16, bailing.\n",
      "2025-04-19 19:43:46.578 python[51969:12320885] Text input context does not respond to _valueForTIProperty:\n",
      "2025-04-20 19:24:52.858 python[51969:12320885] _TIPropertyValueIsValid called with 16 on nil context!\n",
      "2025-04-20 19:24:52.858 python[51969:12320885] imkxpc_getApplicationProperty:reply: called with incorrect property value 16, bailing.\n",
      "2025-04-20 19:24:52.859 python[51969:12320885] Text input context does not respond to _valueForTIProperty:\n"
     ]
    }
   ],
   "source": [
    "import nrrd\n",
    "import numpy as np\n",
    "import napari\n",
    "import matplotlib.pyplot as plt\n",
    "from skimage.exposure import rescale_intensity\n",
    "from sklearn.metrics import precision_score, recall_score\n",
    "\n",
    "# --- File paths ---\n",
    "img_path = \"/Users/bundeli/Documents/HSLU/FS25/BAA/StenUNet/pred_comparison/sten_0025_0000.nrrd\"\n",
    "arcade_path = \"/Users/bundeli/Documents/HSLU/FS25/BAA/StenUNet/pred_comparison/sten_0025_arcade.nrrd\"\n",
    "asoca_path = \"/Users/bundeli/Documents/HSLU/FS25/BAA/StenUNet/pred_comparison/sten_0025_asoca.nrrd\"\n",
    "gt_path = \"/Users/bundeli/Documents/HSLU/FS25/BAA/StenUNet/pred_comparison/sten_0025_gt.nrrd\"\n",
    "\n",
    "# --- Load volumes ---\n",
    "img, _ = nrrd.read(img_path)\n",
    "arcade_pred, _ = nrrd.read(arcade_path)\n",
    "asoca_pred, _ = nrrd.read(asoca_path)\n",
    "gt, _ = nrrd.read(gt_path)\n",
    "\n",
    "# --- Binarize predictions and GT ---\n",
    "arcade_bin = (arcade_pred > 0).astype(np.uint8)\n",
    "asoca_bin = (asoca_pred > 0).astype(np.uint8)\n",
    "gt_bin = (gt > 0).astype(np.uint8)\n",
    "\n",
    "# --- Normalize image for visualization ---\n",
    "img_rescaled = rescale_intensity(img.astype(np.float32), in_range='image', out_range=(0, 1))\n",
    "\n",
    "# --- Metric computation ---\n",
    "def compute_metrics(gt, pred):\n",
    "    intersection = np.logical_and(gt, pred).sum()\n",
    "    union = np.logical_or(gt, pred).sum()\n",
    "    dice = (2 * intersection) / (gt.sum() + pred.sum()) if (gt.sum() + pred.sum()) != 0 else 0.0\n",
    "    iou = intersection / union if union != 0 else 0.0\n",
    "    precision = precision_score(gt.flatten(), pred.flatten(), zero_division=0)\n",
    "    recall = recall_score(gt.flatten(), pred.flatten(), zero_division=0)\n",
    "    return precision, recall, iou, dice\n",
    "\n",
    "metrics_arcade = compute_metrics(gt_bin, arcade_bin)\n",
    "metrics_asoca = compute_metrics(gt_bin, asoca_bin)\n",
    "\n",
    "# --- Plot side-by-side metrics ---\n",
    "fig, axes = plt.subplots(1, 2, figsize=(8, 3))\n",
    "titles = [\"ARCADE Prediction\", \"ASOCA Prediction\"]\n",
    "metrics_all = [metrics_arcade, metrics_asoca]\n",
    "\n",
    "for ax, title, metrics in zip(axes, titles, metrics_all):\n",
    "    precision, recall, iou, dice = metrics\n",
    "    text = (\n",
    "        f\"Precision: {precision:.3f}\\n\"\n",
    "        f\"Recall:    {recall:.3f}\\n\"\n",
    "        f\"IoU:       {iou:.3f}\\n\"\n",
    "        f\"Dice:      {dice:.3f}\"\n",
    "    )\n",
    "    ax.text(0.5, 0.5, text, ha='center', va='center', fontsize=12,\n",
    "            bbox=dict(boxstyle='round', facecolor='white', alpha=0.9), transform=ax.transAxes)\n",
    "    ax.set_title(title, fontsize=14)\n",
    "    ax.axis(\"off\")\n",
    "\n",
    "plt.tight_layout()\n",
    "plt.show()\n",
    "\n",
    "# --- Napari Viewer ---\n",
    "with napari.gui_qt():\n",
    "    viewer = napari.Viewer(ndisplay=3, title=\"Model Prediction Comparison\")\n",
    "    viewer.add_image(img_rescaled, name='CCTA Image', colormap='gray', rendering='attenuated_mip', opacity=0.9)\n",
    "    viewer.add_labels(gt_bin, name='Ground Truth', opacity=0.4)\n",
    "    viewer.add_labels(arcade_bin, name='ARCADE Prediction', opacity=0.5)\n",
    "    viewer.add_labels(asoca_bin, name='ASOCA Prediction', opacity=0.5)\n"
   ]
  },
  {
   "cell_type": "code",
   "execution_count": null,
   "metadata": {},
   "outputs": [],
   "source": []
  }
 ],
 "metadata": {
  "kernelspec": {
   "display_name": "cardiac_segmentation",
   "language": "python",
   "name": "python3"
  },
  "language_info": {
   "codemirror_mode": {
    "name": "ipython",
    "version": 3
   },
   "file_extension": ".py",
   "mimetype": "text/x-python",
   "name": "python",
   "nbconvert_exporter": "python",
   "pygments_lexer": "ipython3",
   "version": "3.11.9"
  }
 },
 "nbformat": 4,
 "nbformat_minor": 2
}
